{
 "cells": [
  {
   "cell_type": "markdown",
   "metadata": {},
   "source": [
    "## 基于doc2vec的文本分类"
   ]
  },
  {
   "cell_type": "markdown",
   "metadata": {},
   "source": [
    "本文主要介绍了使用[`gensim`](https://radimrehurek.com/gensim/index.html)中`doc2vec`的用法，用于训练文档向量模型，并应用于文本分类模型之中  \n",
    "本文的代码和使用的数据可以在[github](https://github.com/snowhyzhang/yukino/tree/master/nlp)上找到"
   ]
  },
  {
   "cell_type": "markdown",
   "metadata": {},
   "source": [
    "### 语料处理\n",
    "\n",
    "- 处理语料库路径与语料类别"
   ]
  },
  {
   "cell_type": "code",
   "execution_count": 1,
   "metadata": {},
   "outputs": [
    {
     "data": {
      "text/html": [
       "<div>\n",
       "<style scoped>\n",
       "    .dataframe tbody tr th:only-of-type {\n",
       "        vertical-align: middle;\n",
       "    }\n",
       "\n",
       "    .dataframe tbody tr th {\n",
       "        vertical-align: top;\n",
       "    }\n",
       "\n",
       "    .dataframe thead th {\n",
       "        text-align: right;\n",
       "    }\n",
       "</style>\n",
       "<table border=\"1\" class=\"dataframe\">\n",
       "  <thead>\n",
       "    <tr style=\"text-align: right;\">\n",
       "      <th></th>\n",
       "      <th>file</th>\n",
       "      <th>category</th>\n",
       "    </tr>\n",
       "  </thead>\n",
       "  <tbody>\n",
       "    <tr>\n",
       "      <th>0</th>\n",
       "      <td>data/C32-Agriculture/C32-Agriculture0002.txt</td>\n",
       "      <td>Agriculture</td>\n",
       "    </tr>\n",
       "    <tr>\n",
       "      <th>1</th>\n",
       "      <td>data/C32-Agriculture/C32-Agriculture0003.txt</td>\n",
       "      <td>Agriculture</td>\n",
       "    </tr>\n",
       "    <tr>\n",
       "      <th>2</th>\n",
       "      <td>data/C32-Agriculture/C32-Agriculture0005.txt</td>\n",
       "      <td>Agriculture</td>\n",
       "    </tr>\n",
       "    <tr>\n",
       "      <th>3</th>\n",
       "      <td>data/C32-Agriculture/C32-Agriculture0007.txt</td>\n",
       "      <td>Agriculture</td>\n",
       "    </tr>\n",
       "    <tr>\n",
       "      <th>4</th>\n",
       "      <td>data/C32-Agriculture/C32-Agriculture0009.txt</td>\n",
       "      <td>Agriculture</td>\n",
       "    </tr>\n",
       "  </tbody>\n",
       "</table>\n",
       "</div>"
      ],
      "text/plain": [
       "                                           file     category\n",
       "0  data/C32-Agriculture/C32-Agriculture0002.txt  Agriculture\n",
       "1  data/C32-Agriculture/C32-Agriculture0003.txt  Agriculture\n",
       "2  data/C32-Agriculture/C32-Agriculture0005.txt  Agriculture\n",
       "3  data/C32-Agriculture/C32-Agriculture0007.txt  Agriculture\n",
       "4  data/C32-Agriculture/C32-Agriculture0009.txt  Agriculture"
      ]
     },
     "execution_count": 1,
     "metadata": {},
     "output_type": "execute_result"
    }
   ],
   "source": [
    "import pandas as pd\n",
    "import glob\n",
    "\n",
    "# 获取所有语料路径\n",
    "doc_files = glob.glob('data/*/*.txt')\n",
    "\n",
    "# 根据文件名处理语料的类别\n",
    "file_cat = []\n",
    "for file_name in doc_files:\n",
    "    category = file_name.split('/')[1].split('-')[1]\n",
    "    file_cat.append((file_name, category))\n",
    "    \n",
    "file_pd = pd.DataFrame(file_cat, columns=['file', 'category'])\n",
    "file_pd['category'] = pd.Categorical(file_pd['category'])\n",
    "file_pd.iloc[:5]"
   ]
  },
  {
   "cell_type": "markdown",
   "metadata": {},
   "source": [
    "- 划分为训练语料与测试语料"
   ]
  },
  {
   "cell_type": "code",
   "execution_count": 2,
   "metadata": {},
   "outputs": [],
   "source": [
    "from sklearn.model_selection import train_test_split\n",
    "\n",
    "files_train, files_test, y_train, y_test = train_test_split(file_pd['file'], file_pd['category'], test_size=0.3, \n",
    "                                                            stratify=file_pd['category'], random_state=1024)"
   ]
  },
  {
   "cell_type": "markdown",
   "metadata": {},
   "source": [
    "- 处理语料分词，封装成TaggedDocument，用于`doc2vec`训练"
   ]
  },
  {
   "cell_type": "code",
   "execution_count": 3,
   "metadata": {},
   "outputs": [],
   "source": [
    "import jieba\n",
    "import re\n",
    "from gensim.models.doc2vec import TaggedDocument\n",
    "\n",
    "class TaggedDocumentReader:\n",
    "    def __init__(self, corpus_files, rexp=None):\n",
    "        self.corpus_files = corpus_files\n",
    "        if rexp is None:\n",
    "            # 只保留数字、英文和中文\n",
    "            self.rexp = re.compile(r'[^a-zA-Z0-9\\u4e00-\\u9fa5]')\n",
    "        else:\n",
    "            self.rexp = rexp\n",
    "    \n",
    "    def __iter__(self):\n",
    "        for file in self.corpus_files:\n",
    "            with open(file, 'r', encoding='GB18030') as f:\n",
    "                content = f.read()\n",
    "                words = jieba.lcut(content)\n",
    "                words = map(lambda x: self.rexp.sub('', x).strip(), words)\n",
    "                words = filter(lambda x: len(x) > 0, words)\n",
    "                yield TaggedDocument(words=list(words), tags=[file])"
   ]
  },
  {
   "cell_type": "markdown",
   "metadata": {},
   "source": [
    "### doc2vec模型"
   ]
  },
  {
   "cell_type": "markdown",
   "metadata": {},
   "source": [
    "- 读入训练集"
   ]
  },
  {
   "cell_type": "code",
   "execution_count": 4,
   "metadata": {},
   "outputs": [
    {
     "name": "stderr",
     "output_type": "stream",
     "text": [
      "Building prefix dict from the default dictionary ...\n",
      "Loading model from cache /var/folders/24/5z49fxqn0zx_9ymk936f_9t00000gn/T/jieba.cache\n",
      "Loading model cost 0.902 seconds.\n",
      "Prefix dict has been built succesfully.\n"
     ]
    },
    {
     "data": {
      "text/plain": [
       "1892"
      ]
     },
     "execution_count": 4,
     "metadata": {},
     "output_type": "execute_result"
    }
   ],
   "source": [
    "tagged_documents_train = []\n",
    "for tdr in TaggedDocumentReader(files_train.tolist()):\n",
    "    tagged_documents_train.append(tdr)\n",
    "len(tagged_documents_train)"
   ]
  },
  {
   "cell_type": "markdown",
   "metadata": {},
   "source": [
    "- 配置doc2vec模型"
   ]
  },
  {
   "cell_type": "code",
   "execution_count": 5,
   "metadata": {},
   "outputs": [],
   "source": [
    "from gensim.models.doc2vec import Doc2Vec\n",
    "import multiprocessing\n",
    "\n",
    "# 获取CPU数目，做并行计算\n",
    "cores = multiprocessing.cpu_count()\n",
    "# 设置输出的向量数目\n",
    "vct_size = 256\n",
    "\n",
    "d2v_model = Doc2Vec(dm=1, vector_size=vct_size, workers=cores, min_count=5, sample=1e-5, negative=5)\n",
    "d2v_model.build_vocab(tagged_documents_train)"
   ]
  },
  {
   "cell_type": "markdown",
   "metadata": {},
   "source": [
    "- 训练doc2vec模型"
   ]
  },
  {
   "cell_type": "code",
   "execution_count": 6,
   "metadata": {},
   "outputs": [],
   "source": [
    "d2v_model.train(tagged_documents_train, total_examples=d2v_model.corpus_count, epochs=d2v_model.epochs)"
   ]
  },
  {
   "cell_type": "markdown",
   "metadata": {},
   "source": [
    "### 文本模型"
   ]
  },
  {
   "cell_type": "markdown",
   "metadata": {},
   "source": [
    "#### 模型训练"
   ]
  },
  {
   "cell_type": "markdown",
   "metadata": {},
   "source": [
    "- 将训练语料转化为向量表示"
   ]
  },
  {
   "cell_type": "code",
   "execution_count": 7,
   "metadata": {
    "scrolled": true
   },
   "outputs": [
    {
     "data": {
      "text/plain": [
       "(1892, 256)"
      ]
     },
     "execution_count": 7,
     "metadata": {},
     "output_type": "execute_result"
    }
   ],
   "source": [
    "import numpy as np\n",
    "\n",
    "vect = [d2v_model.docvecs[doc.tags[0]].reshape((1, vct_size)) for doc in tagged_documents_train]\n",
    "X_train = np.concatenate(vect)\n",
    "X_train.shape"
   ]
  },
  {
   "cell_type": "markdown",
   "metadata": {},
   "source": [
    "- 训练逻辑斯蒂回归模型"
   ]
  },
  {
   "cell_type": "code",
   "execution_count": 8,
   "metadata": {},
   "outputs": [
    {
     "data": {
      "text/plain": [
       "GridSearchCV(cv=KFold(n_splits=10, random_state=1024, shuffle=True),\n",
       "       error_score='raise',\n",
       "       estimator=LogisticRegression(C=1.0, class_weight=None, dual=False, fit_intercept=True,\n",
       "          intercept_scaling=1, max_iter=100, multi_class='ovr', n_jobs=1,\n",
       "          penalty='l2', random_state=None, solver='liblinear', tol=0.0001,\n",
       "          verbose=0, warm_start=False),\n",
       "       fit_params=None, iid=True, n_jobs=1,\n",
       "       param_grid=[{'C': [1, 10, 100, 1000, 10000]}],\n",
       "       pre_dispatch='2*n_jobs', refit=True, return_train_score='warn',\n",
       "       scoring=None, verbose=0)"
      ]
     },
     "execution_count": 8,
     "metadata": {},
     "output_type": "execute_result"
    }
   ],
   "source": [
    "from sklearn.model_selection import GridSearchCV, KFold\n",
    "from sklearn.linear_model import LogisticRegression\n",
    "from sklearn.metrics import accuracy_score\n",
    "\n",
    "lr = LogisticRegression()\n",
    "lr_params = [{'C': [10**n for n in range(0, 5)]}]\n",
    "cv = KFold(n_splits=10, shuffle=True, random_state=1024)\n",
    "\n",
    "lr_clf = GridSearchCV(estimator=lr, param_grid=lr_params, cv = cv)\n",
    "lr_clf.fit(X_train, y_train)"
   ]
  },
  {
   "cell_type": "markdown",
   "metadata": {},
   "source": [
    "#### 模型测试"
   ]
  },
  {
   "cell_type": "markdown",
   "metadata": {},
   "source": [
    "- 处理测试集，将测试集转为向量表示"
   ]
  },
  {
   "cell_type": "code",
   "execution_count": 9,
   "metadata": {},
   "outputs": [
    {
     "data": {
      "text/plain": [
       "(812, 256)"
      ]
     },
     "execution_count": 9,
     "metadata": {},
     "output_type": "execute_result"
    }
   ],
   "source": [
    "tagged_documents_test = []\n",
    "for tdr in TaggedDocumentReader(files_test.tolist()):\n",
    "    tagged_documents_test.append(tdr)\n",
    "\n",
    "vect = [d2v_model.infer_vector(doc.words).reshape((1, vct_size)) for doc in tagged_documents_test]\n",
    "X_test = np.concatenate(vect)\n",
    "X_test.shape"
   ]
  },
  {
   "cell_type": "markdown",
   "metadata": {},
   "source": [
    "- 预测"
   ]
  },
  {
   "cell_type": "code",
   "execution_count": 10,
   "metadata": {},
   "outputs": [
    {
     "data": {
      "text/plain": [
       "0.968"
      ]
     },
     "execution_count": 10,
     "metadata": {},
     "output_type": "execute_result"
    }
   ],
   "source": [
    "y_predict = lr_clf.predict(X_test)\n",
    "accuracy = accuracy_score(y_test, y_predict)\n",
    "round(accuracy, 4)"
   ]
  },
  {
   "cell_type": "markdown",
   "metadata": {},
   "source": [
    "- 查看混淆矩阵"
   ]
  },
  {
   "cell_type": "code",
   "execution_count": 11,
   "metadata": {},
   "outputs": [
    {
     "data": {
      "text/html": [
       "<div>\n",
       "<style scoped>\n",
       "    .dataframe tbody tr th:only-of-type {\n",
       "        vertical-align: middle;\n",
       "    }\n",
       "\n",
       "    .dataframe tbody tr th {\n",
       "        vertical-align: top;\n",
       "    }\n",
       "\n",
       "    .dataframe thead th {\n",
       "        text-align: right;\n",
       "    }\n",
       "</style>\n",
       "<table border=\"1\" class=\"dataframe\">\n",
       "  <thead>\n",
       "    <tr style=\"text-align: right;\">\n",
       "      <th>predict</th>\n",
       "      <th>Agriculture</th>\n",
       "      <th>History</th>\n",
       "      <th>Sports</th>\n",
       "    </tr>\n",
       "    <tr>\n",
       "      <th>truth</th>\n",
       "      <th></th>\n",
       "      <th></th>\n",
       "      <th></th>\n",
       "    </tr>\n",
       "  </thead>\n",
       "  <tbody>\n",
       "    <tr>\n",
       "      <th>Agriculture</th>\n",
       "      <td>300</td>\n",
       "      <td>3</td>\n",
       "      <td>2</td>\n",
       "    </tr>\n",
       "    <tr>\n",
       "      <th>History</th>\n",
       "      <td>7</td>\n",
       "      <td>129</td>\n",
       "      <td>0</td>\n",
       "    </tr>\n",
       "    <tr>\n",
       "      <th>Sports</th>\n",
       "      <td>3</td>\n",
       "      <td>11</td>\n",
       "      <td>357</td>\n",
       "    </tr>\n",
       "  </tbody>\n",
       "</table>\n",
       "</div>"
      ],
      "text/plain": [
       "predict      Agriculture  History  Sports\n",
       "truth                                    \n",
       "Agriculture          300        3       2\n",
       "History                7      129       0\n",
       "Sports                 3       11     357"
      ]
     },
     "execution_count": 11,
     "metadata": {},
     "output_type": "execute_result"
    }
   ],
   "source": [
    "pd.crosstab(pd.Series(y_test.values, name='truth'), pd.Series(y_predict, name='predict'))"
   ]
  }
 ],
 "metadata": {
  "kernelspec": {
   "display_name": "Python 3",
   "language": "python",
   "name": "python3"
  },
  "language_info": {
   "codemirror_mode": {
    "name": "ipython",
    "version": 3
   },
   "file_extension": ".py",
   "mimetype": "text/x-python",
   "name": "python",
   "nbconvert_exporter": "python",
   "pygments_lexer": "ipython3",
   "version": "3.6.3"
  }
 },
 "nbformat": 4,
 "nbformat_minor": 2
}
