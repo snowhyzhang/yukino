{
 "cells": [
  {
   "cell_type": "markdown",
   "metadata": {},
   "source": [
    "# 基于梯度下降的逻辑回归模型"
   ]
  },
  {
   "cell_type": "markdown",
   "metadata": {},
   "source": [
    "本文主要介绍了使用梯度下降方法实现的逻辑回归模型，并且可视化了模型训练过程"
   ]
  },
  {
   "cell_type": "markdown",
   "metadata": {},
   "source": [
    "- hypothesis function"
   ]
  },
  {
   "cell_type": "markdown",
   "metadata": {},
   "source": [
    "\\begin{equation}  \n",
    "h_\\theta(x) = \\frac{1}{1 + e^{-(\\theta_0 + \\theta_1x_1 + ... + \\theta_nx_n)}}\n",
    "\\end{equation} "
   ]
  },
  {
   "cell_type": "markdown",
   "metadata": {},
   "source": [
    "- cost function"
   ]
  },
  {
   "cell_type": "markdown",
   "metadata": {},
   "source": [
    "\\begin{equation} \n",
    "J(\\theta) = -\\frac{1}{m}\\displaystyle\\sum_{i=1}^{m}(y^{(i)}log(h_\\theta(x^{(i)})) + (1 - y^{(i)})log(1 - h_\\theta(x^{(i)})))\n",
    "\\end{equation} "
   ]
  },
  {
   "cell_type": "markdown",
   "metadata": {},
   "source": [
    "- 权重梯度"
   ]
  },
  {
   "cell_type": "markdown",
   "metadata": {},
   "source": [
    "\\begin{equation}\n",
    "\\frac{\\partial}{\\partial\\theta_n}J(\\theta) = \\frac{1}{m}\\displaystyle\\sum_{i=1}^{m}(h_\\theta(x^{(i)}) - y^{(i)})x_n^{(i)}\n",
    "\\end{equation}"
   ]
  },
  {
   "cell_type": "markdown",
   "metadata": {},
   "source": [
    "其中，用于偏置计算的$x_0^{(i)}$的是为1的向量"
   ]
  },
  {
   "cell_type": "markdown",
   "metadata": {},
   "source": [
    "- 权重更新"
   ]
  },
  {
   "cell_type": "markdown",
   "metadata": {},
   "source": [
    "\\begin{align}\n",
    "\\theta_n &= \\theta_n - \\alpha\\frac{\\partial}{\\partial\\theta_n}J(\\theta) \\\\\n",
    "&= \\theta_n - \\alpha\\frac{1}{m}\\displaystyle\\sum_{i=1}^{m}(h_\\theta(x^{(i)}) - y^{(i)})x_n^{(i)}\n",
    "\\end{align}"
   ]
  },
  {
   "cell_type": "code",
   "execution_count": 1,
   "metadata": {},
   "outputs": [],
   "source": [
    "import numpy as np\n",
    "import matplotlib.pyplot as plt"
   ]
  },
  {
   "cell_type": "code",
   "execution_count": 2,
   "metadata": {},
   "outputs": [],
   "source": [
    "class LogisticRegressionGD:\n",
    "    def __init__(self, learning_rate=1e-3, n_iter=50, record_weights=False):\n",
    "        self.learning_rate = learning_rate\n",
    "        self.n_iter = n_iter\n",
    "        self.record_weights = record_weights\n",
    "        \n",
    "        self.recorded_weights = []        \n",
    "        self.costs = []\n",
    "        self.accuracy = []\n",
    "    \n",
    "    def fit(self, X, y):\n",
    "        # 增加一列全为1的向量，用于更新偏置\n",
    "        bias_X = np.column_stack((np.ones(X.shape[0]), X))\n",
    "        # 随机初始化权重\n",
    "        self.weights = np.random.normal(scale=0.05, size=bias_X.shape[1])\n",
    "        for _ in range(self.n_iter):\n",
    "            cost = self.__cal_cost(bias_X, y)\n",
    "            self.costs.append(cost)\n",
    "            acc = self.__cal_accuracy(X, y)\n",
    "            self.accuracy.append(acc)\n",
    "            \n",
    "            # 更新权重(公式4)\n",
    "            self.weights = self.weights - self.learning_rate * self.__cal_weights_gradient(bias_X, y)\n",
    "            if self.record_weights:\n",
    "                self.recorded_weights.append(np.copy(self.weights))\n",
    "                \n",
    "        if self.record_weights:\n",
    "            self.recorded_weights = np.array(self.recorded_weights)\n",
    "            \n",
    "    # 计算模型输出(公式1)\n",
    "    def __activate(self, X):\n",
    "        return 1 / (1 + np.exp(-1 * np.dot(X, self.weights)))\n",
    "    \n",
    "    # 计算cost(公式2)\n",
    "    def __cal_cost(self, X, y):\n",
    "        total_cost = -1 * (np.dot(y.T, np.log(self.__activate(X))) + \n",
    "                           np.dot((1 - y).T, np.log(1 - self.__activate(X))))\n",
    "        return total_cost / len(y)\n",
    "    \n",
    "    # 计算权重梯度(公式3)\n",
    "    def __cal_weights_gradient(self, X, y):\n",
    "        return np.dot(X.T, self.__activate(X) - y) / len(y)\n",
    "    \n",
    "    # 计算准确率\n",
    "    def __cal_accuracy(self, X, y):\n",
    "        return np.sum(self.predict(X) == y) / len(y)\n",
    "    \n",
    "    def get_weights(self):\n",
    "        return {'bias': self.weights[0], 'weights': self.weights[1:]}\n",
    "    \n",
    "    def predict(self, X, pred_prob=False):\n",
    "        bias_X = np.column_stack((np.ones(X.shape[0]), X))\n",
    "        prob = self.__activate(bias_X)\n",
    "        if pred_prob:\n",
    "            return prob\n",
    "        return np.round(prob)\n",
    "    \n",
    "    def plot_cost(self):\n",
    "        fig = plt.figure(figsize=(10, 5))\n",
    "        plt.subplot(121)\n",
    "        plt.plot(self.costs)\n",
    "        plt.ylabel('cost', fontsize=15)\n",
    "        plt.xlabel('iter', fontsize=15)\n",
    "        \n",
    "        plt.subplot(122)\n",
    "        plt.plot(self.accuracy)\n",
    "        plt.ylim((0, 1))\n",
    "        plt.ylabel('accuracy', fontsize=15)\n",
    "        plt.xlabel('iter', fontsize=15)\n",
    "        plt.show()"
   ]
  },
  {
   "cell_type": "markdown",
   "metadata": {},
   "source": [
    "## 训练模型"
   ]
  },
  {
   "cell_type": "markdown",
   "metadata": {},
   "source": [
    "- 生成模拟数据"
   ]
  },
  {
   "cell_type": "markdown",
   "metadata": {},
   "source": [
    "根据如下函数产生模拟数据  \n",
    "$f(x) = 4 + x_0 + 2x_1 + 3x_2 + \\varepsilon$, 其中$\\varepsilon \\sim N(0, 1)$  \n",
    "$\n",
    "y =\n",
    "  \\begin{cases}\n",
    "    1  & \\quad f(x) \\ge 0\\\\\n",
    "    0  & \\quad f(x) \\lt 0\n",
    "  \\end{cases}\n",
    "$"
   ]
  },
  {
   "cell_type": "code",
   "execution_count": 3,
   "metadata": {},
   "outputs": [],
   "source": [
    "X = np.random.randn(1000, 3)\n",
    "f = np.apply_along_axis(lambda x: x[0] + 2 * x[1] - 3 * x[2] + 0.5, 1, X) + np.random.randn(1000)\n",
    "y = np.where(f >= 0, 1, 0)"
   ]
  },
  {
   "cell_type": "markdown",
   "metadata": {},
   "source": [
    "- 训练模型"
   ]
  },
  {
   "cell_type": "code",
   "execution_count": 4,
   "metadata": {},
   "outputs": [],
   "source": [
    "lr = LogisticRegressionGD(learning_rate=0.03, n_iter=1800)\n",
    "\n",
    "lr.fit(X, y)"
   ]
  },
  {
   "cell_type": "markdown",
   "metadata": {},
   "source": [
    "- 查看回归的权重"
   ]
  },
  {
   "cell_type": "code",
   "execution_count": 5,
   "metadata": {},
   "outputs": [
    {
     "data": {
      "text/plain": [
       "{'bias': 0.5332302096106282,\n",
       " 'weights': array([ 1.09506573,  1.98834562, -2.98125386])}"
      ]
     },
     "execution_count": 5,
     "metadata": {},
     "output_type": "execute_result"
    }
   ],
   "source": [
    "lr.get_weights()"
   ]
  },
  {
   "cell_type": "markdown",
   "metadata": {},
   "source": [
    "模型的权重比较接近模拟生成数据的公式"
   ]
  },
  {
   "cell_type": "markdown",
   "metadata": {},
   "source": [
    "- 查看cost和准确率的变化情况"
   ]
  },
  {
   "cell_type": "code",
   "execution_count": 6,
   "metadata": {},
   "outputs": [
    {
     "data": {
      "image/png": "[encoded data removed]",
      "text/plain": [
       "<matplotlib.figure.Figure at 0x108977940>"
      ]
     },
     "metadata": {},
     "output_type": "display_data"
    }
   ],
   "source": [
    "lr.plot_cost()"
   ]
  },
  {
   "cell_type": "markdown",
   "metadata": {},
   "source": [
    "# 可视化模型训练过程"
   ]
  },
  {
   "cell_type": "code",
   "execution_count": 7,
   "metadata": {},
   "outputs": [],
   "source": [
    "from matplotlib import cm"
   ]
  },
  {
   "cell_type": "code",
   "execution_count": 8,
   "metadata": {},
   "outputs": [],
   "source": [
    "X = np.random.randn(500, 2)\n",
    "f = np.apply_along_axis(lambda x: x[0] + 2 * x[1] - 1, 1, X) + np.random.randn(500)\n",
    "y = np.where(f >= 0, 1, 0)"
   ]
  },
  {
   "cell_type": "code",
   "execution_count": 9,
   "metadata": {},
   "outputs": [
    {
     "data": {
      "text/plain": [
       "{'bias': -0.9695118881533945, 'weights': array([0.84576928, 1.80876813])}"
      ]
     },
     "execution_count": 9,
     "metadata": {},
     "output_type": "execute_result"
    }
   ],
   "source": [
    "lr = LogisticRegressionGD(learning_rate=0.03, n_iter=600, record_weights=True)\n",
    "\n",
    "lr.fit(X, y)\n",
    "lr.get_weights()"
   ]
  },
  {
   "cell_type": "markdown",
   "metadata": {},
   "source": [
    "- 绘制Decision Boundary（决策边界）变化"
   ]
  },
  {
   "cell_type": "code",
   "execution_count": 10,
   "metadata": {},
   "outputs": [
    {
     "data": {
      "image/png": "[encoded data removed]",
      "text/plain": [
       "<matplotlib.figure.Figure at 0x1089adb38>"
      ]
     },
     "metadata": {},
     "output_type": "display_data"
    }
   ],
   "source": [
    "fig = plt.figure(figsize=(7, 7))\n",
    "X_pos = X[y == 1]\n",
    "X_neg = X[y == 0]\n",
    "plt.scatter(X_pos[:, 0], X_pos[:, 1], label='1', color='red')\n",
    "plt.scatter(X_neg[:, 0], X_neg[:, 1], label='0', color='blue')\n",
    "\n",
    "x = np.linspace(-4, 4, 10)\n",
    "cmap = cm.get_cmap('Set2')\n",
    "for c_ind, w_ind in enumerate(range(0, 400, 100)):\n",
    "    theta0, theta1, theta2 = lr.recorded_weights[w_ind, :]\n",
    "    slope = -1 * theta1 / theta2\n",
    "    intercept = -1 * theta0 / theta2\n",
    "    line = slope * x + intercept\n",
    "    plt.plot(x, line, color=cmap(c_ind), label='iter@%d' % w_ind)\n",
    "    \n",
    "theta0, theta1, theta2 = lr.weights\n",
    "slope = -1 * theta1 / theta2\n",
    "intercept = -1 * theta0 / theta2\n",
    "line = slope * x + intercept\n",
    "plt.plot(x, line, color='r', linewidth=2, label='final iter')\n",
    "\n",
    "plt.ylim((-3.5, 3.5))\n",
    "plt.xlim((-3.5, 3.5))\n",
    "plt.xlabel('$x_1$', fontsize=20)\n",
    "plt.ylabel('$x_2$', fontsize=20)\n",
    "plt.legend()\n",
    "plt.show()"
   ]
  }
 ],
 "metadata": {
  "kernelspec": {
   "display_name": "Python 3",
   "language": "python",
   "name": "python3"
  },
  "language_info": {
   "codemirror_mode": {
    "name": "ipython",
    "version": 3
   },
   "file_extension": ".py",
   "mimetype": "text/x-python",
   "name": "python",
   "nbconvert_exporter": "python",
   "pygments_lexer": "ipython3",
   "version": "3.6.3"
  }
 },
 "nbformat": 4,
 "nbformat_minor": 2
}
